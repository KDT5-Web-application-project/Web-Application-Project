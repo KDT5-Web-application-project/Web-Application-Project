{
 "cells": [
  {
   "cell_type": "code",
   "id": "initial_id",
   "metadata": {
    "collapsed": true,
    "ExecuteTime": {
     "end_time": "2024-04-21T11:06:27.569008Z",
     "start_time": "2024-04-21T11:06:27.428142Z"
    }
   },
   "source": [
    "from gtts import gTTS\n",
    "import os"
   ],
   "outputs": [],
   "execution_count": 1
  },
  {
   "metadata": {
    "ExecuteTime": {
     "end_time": "2024-04-21T05:24:26.121865Z",
     "start_time": "2024-04-21T05:24:26.108403Z"
    }
   },
   "cell_type": "code",
   "source": "txt = '한국어도 되냐'",
   "id": "d9324ae4869466f6",
   "outputs": [],
   "execution_count": 16
  },
  {
   "metadata": {
    "ExecuteTime": {
     "end_time": "2024-04-21T05:24:26.482302Z",
     "start_time": "2024-04-21T05:24:26.126849Z"
    }
   },
   "cell_type": "code",
   "source": [
    "tts = gTTS(text=txt, lang='ko')\n",
    "tts.save(\"korean.mp3\")"
   ],
   "id": "b16b09769d47c19e",
   "outputs": [],
   "execution_count": 17
  },
  {
   "metadata": {
    "ExecuteTime": {
     "end_time": "2024-04-21T05:24:27.117926Z",
     "start_time": "2024-04-21T05:24:26.485352Z"
    }
   },
   "cell_type": "code",
   "source": "os.system(\"korean.mp3\")",
   "id": "cf0d8e48d28dc215",
   "outputs": [
    {
     "data": {
      "text/plain": [
       "0"
      ]
     },
     "execution_count": 18,
     "metadata": {},
     "output_type": "execute_result"
    }
   ],
   "execution_count": 18
  },
  {
   "metadata": {
    "ExecuteTime": {
     "end_time": "2024-04-21T11:06:35.394835Z",
     "start_time": "2024-04-21T11:06:35.373628Z"
    }
   },
   "cell_type": "code",
   "source": "txt = 'Long time no see, bro. How have you been?'",
   "id": "281bbface650144d",
   "outputs": [],
   "execution_count": 2
  },
  {
   "metadata": {
    "ExecuteTime": {
     "end_time": "2024-04-21T11:06:36.977614Z",
     "start_time": "2024-04-21T11:06:36.494591Z"
    }
   },
   "cell_type": "code",
   "source": [
    "tts = gTTS(text=txt, lang='en')\n",
    "tts.save(\"english.mp3\")"
   ],
   "id": "a6d725b390a69008",
   "outputs": [],
   "execution_count": 3
  },
  {
   "metadata": {
    "ExecuteTime": {
     "end_time": "2024-04-21T11:06:39.561247Z",
     "start_time": "2024-04-21T11:06:38.548002Z"
    }
   },
   "cell_type": "code",
   "source": "os.system(\"english.mp3\")",
   "id": "658abf8ac62e0c5e",
   "outputs": [
    {
     "data": {
      "text/plain": [
       "0"
      ]
     },
     "execution_count": 4,
     "metadata": {},
     "output_type": "execute_result"
    }
   ],
   "execution_count": 4
  },
  {
   "metadata": {
    "ExecuteTime": {
     "end_time": "2024-04-21T11:30:54.606600Z",
     "start_time": "2024-04-21T11:30:54.591017Z"
    }
   },
   "cell_type": "code",
   "source": "import pyttsx3",
   "id": "b4a4d29ec6a22bf6",
   "outputs": [],
   "execution_count": 5
  },
  {
   "metadata": {
    "ExecuteTime": {
     "end_time": "2024-04-21T11:31:59.427550Z",
     "start_time": "2024-04-21T11:31:56.536676Z"
    }
   },
   "cell_type": "code",
   "source": [
    "engine = pyttsx3.init()\n",
    "engine.say(\"i will speak this text\")\n",
    "engine.runAndWait()"
   ],
   "id": "75d029863acf544c",
   "outputs": [],
   "execution_count": 9
  },
  {
   "metadata": {},
   "cell_type": "code",
   "outputs": [],
   "execution_count": null,
   "source": "",
   "id": "b0887ec16b3c97da"
  }
 ],
 "metadata": {
  "kernelspec": {
   "display_name": "Python 3",
   "language": "python",
   "name": "python3"
  },
  "language_info": {
   "codemirror_mode": {
    "name": "ipython",
    "version": 2
   },
   "file_extension": ".py",
   "mimetype": "text/x-python",
   "name": "python",
   "nbconvert_exporter": "python",
   "pygments_lexer": "ipython2",
   "version": "2.7.6"
  }
 },
 "nbformat": 4,
 "nbformat_minor": 5
}
