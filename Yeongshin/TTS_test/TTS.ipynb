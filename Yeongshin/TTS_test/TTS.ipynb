{
 "cells": [
  {
   "cell_type": "code",
   "id": "initial_id",
   "metadata": {
    "collapsed": true,
    "ExecuteTime": {
     "end_time": "2024-04-22T00:54:23.038480Z",
     "start_time": "2024-04-22T00:54:23.000838Z"
    }
   },
   "source": [
    "from gtts import gTTS\n",
    "import os"
   ],
   "outputs": [],
   "execution_count": 15
  },
  {
   "metadata": {
    "ExecuteTime": {
     "end_time": "2024-04-21T05:24:26.121865Z",
     "start_time": "2024-04-21T05:24:26.108403Z"
    }
   },
   "cell_type": "code",
   "source": "txt = '한국어도 되냐'",
   "id": "d9324ae4869466f6",
   "outputs": [],
   "execution_count": 16
  },
  {
   "metadata": {
    "ExecuteTime": {
     "end_time": "2024-04-21T05:24:26.482302Z",
     "start_time": "2024-04-21T05:24:26.126849Z"
    }
   },
   "cell_type": "code",
   "source": [
    "tts = gTTS(text=txt, lang='ko')\n",
    "tts.save(\"korean.mp3\")"
   ],
   "id": "b16b09769d47c19e",
   "outputs": [],
   "execution_count": 17
  },
  {
   "metadata": {
    "ExecuteTime": {
     "end_time": "2024-04-21T05:24:27.117926Z",
     "start_time": "2024-04-21T05:24:26.485352Z"
    }
   },
   "cell_type": "code",
   "source": "os.system(\"korean.mp3\")",
   "id": "cf0d8e48d28dc215",
   "outputs": [
    {
     "data": {
      "text/plain": [
       "0"
      ]
     },
     "execution_count": 18,
     "metadata": {},
     "output_type": "execute_result"
    }
   ],
   "execution_count": 18
  },
  {
   "metadata": {
    "ExecuteTime": {
     "end_time": "2024-04-21T11:06:35.394835Z",
     "start_time": "2024-04-21T11:06:35.373628Z"
    }
   },
   "cell_type": "code",
   "source": "txt = 'Long time no see, bro. How have you been?'",
   "id": "281bbface650144d",
   "outputs": [],
   "execution_count": 2
  },
  {
   "metadata": {
    "ExecuteTime": {
     "end_time": "2024-04-21T11:06:36.977614Z",
     "start_time": "2024-04-21T11:06:36.494591Z"
    }
   },
   "cell_type": "code",
   "source": [
    "tts = gTTS(text=txt, lang='en')\n",
    "tts.save(\"english.mp3\")"
   ],
   "id": "a6d725b390a69008",
   "outputs": [],
   "execution_count": 3
  },
  {
   "metadata": {
    "ExecuteTime": {
     "end_time": "2024-04-21T11:06:39.561247Z",
     "start_time": "2024-04-21T11:06:38.548002Z"
    }
   },
   "cell_type": "code",
   "source": "os.system(\"english.mp3\")",
   "id": "658abf8ac62e0c5e",
   "outputs": [
    {
     "data": {
      "text/plain": [
       "0"
      ]
     },
     "execution_count": 4,
     "metadata": {},
     "output_type": "execute_result"
    }
   ],
   "execution_count": 4
  },
  {
   "metadata": {
    "ExecuteTime": {
     "end_time": "2024-04-22T00:54:28.254368Z",
     "start_time": "2024-04-22T00:54:28.238483Z"
    }
   },
   "cell_type": "code",
   "source": "import pyttsx3",
   "id": "b4a4d29ec6a22bf6",
   "outputs": [],
   "execution_count": 16
  },
  {
   "metadata": {
    "ExecuteTime": {
     "end_time": "2024-04-22T00:54:31.380877Z",
     "start_time": "2024-04-22T00:54:28.943961Z"
    }
   },
   "cell_type": "code",
   "source": [
    "engine = pyttsx3.init()\n",
    "engine.say(\"i will speak this text\")\n",
    "engine.runAndWait()"
   ],
   "id": "75d029863acf544c",
   "outputs": [],
   "execution_count": 17
  },
  {
   "metadata": {
    "ExecuteTime": {
     "end_time": "2024-04-22T00:54:33.101010Z",
     "start_time": "2024-04-22T00:54:33.085381Z"
    }
   },
   "cell_type": "code",
   "source": "engine.save_to_file('hello world', 'test.mp3')",
   "id": "da360b650b730406",
   "outputs": [],
   "execution_count": 18
  },
  {
   "metadata": {
    "ExecuteTime": {
     "end_time": "2024-04-22T00:57:21.832829Z",
     "start_time": "2024-04-22T00:57:21.250190Z"
    }
   },
   "cell_type": "code",
   "source": [
    "# 저장된 음성파일 불러오기\n",
    "os.system(\"test.mp3\")"
   ],
   "id": "6c667f712862209b",
   "outputs": [
    {
     "data": {
      "text/plain": [
       "0"
      ]
     },
     "execution_count": 21,
     "metadata": {},
     "output_type": "execute_result"
    }
   ],
   "execution_count": 21
  },
  {
   "metadata": {
    "ExecuteTime": {
     "end_time": "2024-04-22T00:49:54.156116Z",
     "start_time": "2024-04-22T00:49:54.025943Z"
    }
   },
   "cell_type": "code",
   "source": [
    "# speech to text\n",
    "# !pip install SpeechRecognition\n",
    "import speech_recognition as sr"
   ],
   "id": "b0887ec16b3c97da",
   "outputs": [],
   "execution_count": 1
  },
  {
   "metadata": {
    "ExecuteTime": {
     "end_time": "2024-04-22T00:49:55.228495Z",
     "start_time": "2024-04-22T00:49:55.213240Z"
    }
   },
   "cell_type": "code",
   "source": "r = sr.Recognizer()",
   "id": "d63414cd784e3100",
   "outputs": [],
   "execution_count": 2
  },
  {
   "metadata": {
    "ExecuteTime": {
     "end_time": "2024-04-22T00:50:45.356711Z",
     "start_time": "2024-04-22T00:50:40.060217Z"
    }
   },
   "cell_type": "code",
   "source": [
    "with sr.Microphone() as source:\n",
    "    print(\"Say something\")\n",
    "    audio = r.listen(source)\n",
    "    print(\"Time over, thanks\")"
   ],
   "id": "dec5ae75663b605a",
   "outputs": [
    {
     "name": "stdout",
     "output_type": "stream",
     "text": [
      "Say something\n",
      "Time over, thanks\n"
     ]
    }
   ],
   "execution_count": 6
  },
  {
   "metadata": {
    "ExecuteTime": {
     "end_time": "2024-04-22T00:50:47.656280Z",
     "start_time": "2024-04-22T00:50:46.844579Z"
    }
   },
   "cell_type": "code",
   "source": [
    "try:\n",
    "    print(\"Text: \"+r.recognize_google(audio))\n",
    "except:\n",
    "    pass"
   ],
   "id": "6320ed032f28f05",
   "outputs": [
    {
     "name": "stdout",
     "output_type": "stream",
     "text": [
      "Text: hey how are you\n"
     ]
    }
   ],
   "execution_count": 7
  },
  {
   "metadata": {
    "ExecuteTime": {
     "end_time": "2024-04-22T00:50:53.586464Z",
     "start_time": "2024-04-22T00:50:53.577273Z"
    }
   },
   "cell_type": "code",
   "source": [
    "# 입력된 음성을 저장하기\n",
    "with open(\"microphone-results.wav\", \"wb\") as f:\n",
    "    f.write(audio.get_wav_data())"
   ],
   "id": "7fe8734f7d227369",
   "outputs": [],
   "execution_count": 8
  },
  {
   "metadata": {
    "ExecuteTime": {
     "end_time": "2024-04-22T00:51:16.710524Z",
     "start_time": "2024-04-22T00:51:16.678735Z"
    }
   },
   "cell_type": "code",
   "source": [
    "# 음성 파일을 텍스트로 변환하기\n",
    "harvard = sr.AudioFile('microphone-results.wav')\n",
    "with harvard as source:\n",
    "    audio = r.record(source)"
   ],
   "id": "53aeb8133eb42420",
   "outputs": [],
   "execution_count": 9
  },
  {
   "metadata": {
    "ExecuteTime": {
     "end_time": "2024-04-22T00:51:21.448462Z",
     "start_time": "2024-04-22T00:51:20.656862Z"
    }
   },
   "cell_type": "code",
   "source": "print(r.recognize_google(audio))",
   "id": "f2a9cf4ba220e622",
   "outputs": [
    {
     "name": "stdout",
     "output_type": "stream",
     "text": [
      "hey how are you\n"
     ]
    }
   ],
   "execution_count": 10
  },
  {
   "metadata": {},
   "cell_type": "code",
   "outputs": [],
   "execution_count": null,
   "source": "",
   "id": "4dbaebf99cafe8f"
  }
 ],
 "metadata": {
  "kernelspec": {
   "display_name": "Python 3",
   "language": "python",
   "name": "python3"
  },
  "language_info": {
   "codemirror_mode": {
    "name": "ipython",
    "version": 2
   },
   "file_extension": ".py",
   "mimetype": "text/x-python",
   "name": "python",
   "nbconvert_exporter": "python",
   "pygments_lexer": "ipython2",
   "version": "2.7.6"
  }
 },
 "nbformat": 4,
 "nbformat_minor": 5
}
