{
 "cells": [
  {
   "cell_type": "code",
   "execution_count": 64,
   "metadata": {},
   "outputs": [],
   "source": [
    "import pandas as pd\n",
    "import numpy as np\n",
    "import torch\n",
    "import torch.nn as nn\n",
    "import torch.nn.functional as F\n",
    "import torch.optim as optim\n",
    "import matplotlib.pyplot as plt\n",
    "import cv2\n",
    "from PIL import Image\n",
    "import os\n",
    "from torchvision.datasets import ImageFolder\n",
    "from torch.utils.data import DataLoader, Dataset, random_split\n",
    "import torchvision.transforms as transforms\n",
    "from torchinfo import summary\n",
    "import torchvision.models as models"
   ]
  },
  {
   "cell_type": "code",
   "execution_count": 65,
   "metadata": {},
   "outputs": [],
   "source": [
    "preprocessing = transforms.Compose([\n",
    "    transforms.Resize((30,30)),\n",
    "    transforms.ToTensor(),\n",
    "    transforms.Normalize((0.485, 0.456, 0.406), (0.229, 0.224, 0.225))\n",
    "])"
   ]
  },
  {
   "cell_type": "code",
   "execution_count": 66,
   "metadata": {},
   "outputs": [],
   "source": [
    "file_dir = './traffic_sign/myData'\n",
    "imgDS = ImageFolder(root = file_dir, transform = preprocessing)"
   ]
  },
  {
   "cell_type": "code",
   "execution_count": 67,
   "metadata": {},
   "outputs": [],
   "source": [
    "# imgDS.class_to_idx"
   ]
  },
  {
   "cell_type": "code",
   "execution_count": 68,
   "metadata": {},
   "outputs": [
    {
     "name": "stdout",
     "output_type": "stream",
     "text": [
      "51198 7314 14627\n"
     ]
    }
   ],
   "source": [
    "# dataset에서 train, valid, test를 나누어보자\n",
    "seed_gen = torch.Generator().manual_seed(42)\n",
    "tr, val, ts = 0.7,0.1,0.2\n",
    "trainDS, validDS, testDS = random_split(imgDS, [tr, val, ts], generator=seed_gen)\n",
    "print(len(trainDS), len(validDS), len(testDS))"
   ]
  },
  {
   "cell_type": "code",
   "execution_count": 69,
   "metadata": {},
   "outputs": [
    {
     "name": "stdout",
     "output_type": "stream",
     "text": [
      "170 24 48\n"
     ]
    }
   ],
   "source": [
    "# 각 분류별로 dataloader를 생성해보자\n",
    "batch_size = 300\n",
    "train_dl = DataLoader(trainDS, batch_size=batch_size, shuffle=True, drop_last = True)\n",
    "valid_dl = DataLoader(validDS, batch_size=batch_size, shuffle=True, drop_last = True)\n",
    "test_dl = DataLoader(testDS, batch_size = batch_size, shuffle=True, drop_last = True)\n",
    "print(len(train_dl), len(valid_dl), len(test_dl))"
   ]
  },
  {
   "cell_type": "code",
   "execution_count": 70,
   "metadata": {},
   "outputs": [],
   "source": [
    "# 모델 인스턴스 생성 : 사전 학습된 모델 로딩 => 가중치를 조절\n",
    "res_model = models.resnet18(weights = \"ResNet18_Weights.DEFAULT\")\n",
    "\n",
    "# 전결합층 변경\n",
    "res_model.fc = nn.Linear(in_features = 512, out_features = 43)"
   ]
  },
  {
   "cell_type": "code",
   "execution_count": 71,
   "metadata": {},
   "outputs": [],
   "source": [
    "# 모델의 합성곱층 가중치 고정\n",
    "for param in res_model.parameters(): \n",
    "    param.requires_grad = False\n",
    "for param in res_model.fc.parameters():   # 완전 연결층은 학습\n",
    "    param.requires_grad = True"
   ]
  },
  {
   "cell_type": "code",
   "execution_count": 72,
   "metadata": {},
   "outputs": [],
   "source": [
    "# 학습을 위한 변수 선언 \n",
    "device = 'cuda' if torch.cuda.is_available() else 'cpu'\n",
    "model = res_model.to(device)\n",
    "\n",
    "loss_fn = nn.CrossEntropyLoss().to(device)\n",
    "optimizer = optim.Adam(model.parameters(), lr = 0.01)\n",
    "\n",
    "EPOCH = 3\n",
    "scheduler = optim.lr_scheduler.MultiStepLR(optimizer, milestones = [0, EPOCH], gamma = 0.5)"
   ]
  },
  {
   "cell_type": "code",
   "execution_count": 73,
   "metadata": {},
   "outputs": [],
   "source": [
    "import torchmetrics as mt\n",
    "\n",
    "def training(DATALOADER):\n",
    "    model.train()\n",
    "    loss_list = []\n",
    "    acc_list = []\n",
    "    for (feature, target) in DATALOADER:\n",
    "        feature = feature.to(device)\n",
    "        target = target.to(device)\n",
    "        # print(feature.shape, target.shape)\n",
    "        pred = model(feature)\n",
    "        # print(pred.shape)\n",
    "\n",
    "        # 손실계산\n",
    "        loss = loss_fn(pred, target)\n",
    "\n",
    "        # 업데이트\n",
    "        optimizer.zero_grad()\n",
    "        loss.backward()\n",
    "        optimizer.step()\n",
    "        loss = round(loss.item(),3)\n",
    "        # print(loss)\n",
    "\n",
    "        loss_list.append(loss)\n",
    "        \n",
    "        # print(loss_list)\n",
    "\n",
    "        # 성능\n",
    "        # accuracy = mt.Accuracy(num_classes= 8, task = 'multiclass')\n",
    "\n",
    "        # result = torch.argmax(input = pred, dim = 1)\n",
    "        # print(pred.shape, target.shape, result.shape)\n",
    "        # print(f\"pred : \\n{pred}\")\n",
    "        # print(f\"result : {result} , {len(result)}\")\n",
    "        # print(f\"target : {target} , {len(target)}\")\n",
    "        # acc = accuracy(result, target).item()\n",
    "        # acc_list.append(acc)\n",
    "\n",
    "    # total_acc = round(sum(acc_list)/len(acc_list) , 3)\n",
    "    total_loss = round(sum(loss_list)/len(loss_list), 3)\n",
    "    return total_loss\n",
    "\n",
    "# training(train_dl)"
   ]
  },
  {
   "cell_type": "code",
   "execution_count": 74,
   "metadata": {},
   "outputs": [],
   "source": [
    "def validing(DATALOADER):\n",
    "    model.train()\n",
    "    loss_list = []\n",
    "    acc_list = []\n",
    "    for (feature, target) in DATALOADER:\n",
    "        feature = feature.to(device)\n",
    "        target = target.to(device)\n",
    "        # print(feature.shape, target.shape)\n",
    "        pred = model(feature)\n",
    "        # print(pred.shape)\n",
    "\n",
    "        # 손실계산\n",
    "        loss = loss_fn(pred, target)\n",
    "        loss = round(loss.item(),3)\n",
    "        loss_list.append(loss)\n",
    "\n",
    "    total_loss = round(sum(loss_list)/len(loss_list), 3)\n",
    "    return total_loss\n",
    "\n",
    "# training(valid_dl)"
   ]
  },
  {
   "cell_type": "code",
   "execution_count": 75,
   "metadata": {},
   "outputs": [],
   "source": [
    "epoch_num = 50\n",
    "training_list = [[], [], [], [], []]\n",
    "validing_list = [[], [], [], [], []]\n",
    "# loss, acc, prec, rec, f1_score\n",
    "scheduler = optim.lr_scheduler.MultiStepLR(optimizer, milestones = [0, epoch_num], gamma = 0.5)\n",
    "# milestones => 어떤 에포크 구간에서 학습률을 조정할지 나타내는거\n",
    "\n",
    "# 모델 저장 관련 변수\n",
    "save_score_point = 1"
   ]
  },
  {
   "cell_type": "code",
   "execution_count": 76,
   "metadata": {},
   "outputs": [
    {
     "name": "stdout",
     "output_type": "stream",
     "text": [
      "0번 완료\n",
      "train 2.35 valid 1.972\n",
      "1번 완료\n",
      "train 1.843 valid 1.812\n",
      "2번 완료\n",
      "train 1.715 valid 1.767\n",
      "3번 완료\n",
      "train 1.642 valid 1.727\n",
      "4번 완료\n",
      "train 1.595 valid 1.687\n",
      "5번 완료\n",
      "train 1.564 valid 1.673\n",
      "6번 완료\n",
      "train 1.541 valid 1.678\n",
      "7번 완료\n",
      "train 1.517 valid 1.665\n",
      "8번 완료\n",
      "train 1.506 valid 1.65\n",
      "9번 완료\n",
      "train 1.487 valid 1.631\n",
      "10번 완료\n",
      "train 1.477 valid 1.63\n",
      "11번 완료\n",
      "train 1.471 valid 1.642\n",
      "12번 완료\n",
      "train 1.455 valid 1.614\n",
      "13번 완료\n",
      "train 1.451 valid 1.645\n",
      "14번 완료\n",
      "train 1.448 valid 1.645\n",
      "15번 완료\n",
      "train 1.443 valid 1.61\n",
      "16번 완료\n",
      "train 1.441 valid 1.617\n",
      "17번 완료\n",
      "train 1.434 valid 1.619\n",
      "18번 완료\n",
      "train 1.423 valid 1.623\n",
      "19번 완료\n",
      "train 1.418 valid 1.635\n",
      "20번 완료\n",
      "train 1.431 valid 1.648\n",
      "21번 완료\n",
      "train 1.421 valid 1.657\n",
      "22번 완료\n",
      "train 1.417 valid 1.671\n",
      "23번 완료\n",
      "train 1.419 valid 1.638\n",
      "24번 완료\n",
      "train 1.415 valid 1.634\n",
      "25번 완료\n",
      "train 1.424 valid 1.64\n",
      "26번 완료\n",
      "train 1.411 valid 1.629\n",
      "27번 완료\n",
      "train 1.404 valid 1.65\n",
      "28번 완료\n",
      "train 1.405 valid 1.633\n",
      "29번 완료\n",
      "train 1.401 valid 1.637\n",
      "30번 완료\n",
      "train 1.398 valid 1.67\n",
      "31번 완료\n",
      "train 1.401 valid 1.702\n",
      "32번 완료\n",
      "train 1.396 valid 1.647\n",
      "33번 완료\n",
      "train 1.401 valid 1.67\n",
      "34번 완료\n",
      "train 1.394 valid 1.686\n",
      "35번 완료\n",
      "train 1.395 valid 1.641\n",
      "36번 완료\n",
      "train 1.395 valid 1.665\n",
      "37번 완료\n",
      "train 1.411 valid 1.666\n",
      "38번 완료\n",
      "train 1.394 valid 1.661\n",
      "39번 완료\n",
      "train 1.392 valid 1.685\n",
      "40번 완료\n",
      "train 1.391 valid 1.656\n",
      "41번 완료\n",
      "train 1.393 valid 1.661\n",
      "42번 완료\n",
      "train 1.389 valid 1.659\n",
      "43번 완료\n",
      "train 1.395 valid 1.646\n",
      "44번 완료\n",
      "train 1.4 valid 1.643\n",
      "45번 완료\n",
      "train 1.395 valid 1.667\n",
      "46번 완료\n",
      "train 1.404 valid 1.645\n",
      "47번 완료\n",
      "train 1.391 valid 1.662\n",
      "48번 완료\n",
      "train 1.391 valid 1.67\n",
      "49번 완료\n",
      "train 1.388 valid 1.699\n"
     ]
    }
   ],
   "source": [
    "for epo in range(epoch_num):\n",
    "    # 학습\n",
    "    tr_loss = training(train_dl)\n",
    "    training_list[0].append(tr_loss)\n",
    "\n",
    "    # 검증\n",
    "    val_loss = validing(valid_dl)\n",
    "    validing_list[0].append(val_loss)\n",
    "    \n",
    "    print(f\"{epo}번 완료\")\n",
    "    print(f\"train {tr_loss} valid {val_loss}\")\n",
    "    \n",
    "    # # 검증 데이터 기준 학습된 모델 저장\n",
    "    # if val_loss < save_score_point:\n",
    "    #     torch.save(model, filename)\n",
    "    #     print('  모 델 저 장 완 료\\n')\n",
    "    \n",
    "    # # 스케줄러\n",
    "    # scheduler.step()"
   ]
  },
  {
   "cell_type": "code",
   "execution_count": 77,
   "metadata": {},
   "outputs": [
    {
     "name": "stdout",
     "output_type": "stream",
     "text": [
      "50번 학습 후 결과는 다음과 같다.\n",
      "train_loss 1.4656600000000006\n",
      "valid_loss 1.6656\n"
     ]
    }
   ],
   "source": [
    "total_result_train = sum(training_list[0]) / len(training_list[0])\n",
    "total_result_valid = sum(validing_list[0]) / len(validing_list[0])\n",
    "\n",
    "print(f\"{epoch_num}번 학습 후 결과는 다음과 같다.\")\n",
    "print(f\"train_loss {total_result_train}\")\n",
    "print(f\"valid_loss {total_result_valid}\")"
   ]
  },
  {
   "cell_type": "code",
   "execution_count": 78,
   "metadata": {},
   "outputs": [],
   "source": [
    "epo_list = list(range(0, epoch_num))"
   ]
  },
  {
   "cell_type": "code",
   "execution_count": 79,
   "metadata": {},
   "outputs": [
    {
     "data": {
      "image/png": "[encoded data removed]",
      "text/plain": [
       "<Figure size 1000x500 with 1 Axes>"
      ]
     },
     "metadata": {},
     "output_type": "display_data"
    }
   ],
   "source": [
    "plt.figure(figsize = (10,5))\n",
    "k=0\n",
    "plt.title(\"LOSS\")\n",
    "plt.plot(epo_list, training_list[0], label = 'train')\n",
    "plt.plot(epo_list, validing_list[0], label = 'valid')\n",
    "plt.legend()\n",
    "plt.tight_layout()\n",
    "plt.show()"
   ]
  },
  {
   "cell_type": "code",
   "execution_count": 80,
   "metadata": {},
   "outputs": [
    {
     "name": "stdout",
     "output_type": "stream",
     "text": [
      "./model/sign_50.pth\n"
     ]
    }
   ],
   "source": [
    "## 학습 중 모델 저장 관련 변수\n",
    "dir = './model/'\n",
    "filename = dir + f\"sign_{epoch_num}.pth\"\n",
    "print(filename)"
   ]
  },
  {
   "cell_type": "code",
   "execution_count": 81,
   "metadata": {},
   "outputs": [
    {
     "name": "stdout",
     "output_type": "stream",
     "text": [
      "모델 저장 완료\n"
     ]
    }
   ],
   "source": [
    "torch.save(model.state_dict(), filename)\n",
    "print('모델 저장 완료')"
   ]
  },
  {
   "cell_type": "code",
   "execution_count": null,
   "metadata": {},
   "outputs": [],
   "source": []
  },
  {
   "cell_type": "code",
   "execution_count": 82,
   "metadata": {},
   "outputs": [],
   "source": [
    "sign_name = pd.read_csv('./traffic_sign/labels.csv')"
   ]
  },
  {
   "cell_type": "code",
   "execution_count": 83,
   "metadata": {},
   "outputs": [
    {
     "data": {
      "text/html": [
       "<div>\n",
       "<style scoped>\n",
       "    .dataframe tbody tr th:only-of-type {\n",
       "        vertical-align: middle;\n",
       "    }\n",
       "\n",
       "    .dataframe tbody tr th {\n",
       "        vertical-align: top;\n",
       "    }\n",
       "\n",
       "    .dataframe thead th {\n",
       "        text-align: right;\n",
       "    }\n",
       "</style>\n",
       "<table border=\"1\" class=\"dataframe\">\n",
       "  <thead>\n",
       "    <tr style=\"text-align: right;\">\n",
       "      <th></th>\n",
       "      <th>ClassId</th>\n",
       "      <th>Name</th>\n",
       "    </tr>\n",
       "  </thead>\n",
       "  <tbody>\n",
       "    <tr>\n",
       "      <th>0</th>\n",
       "      <td>0</td>\n",
       "      <td>Speed limit (20km/h)</td>\n",
       "    </tr>\n",
       "    <tr>\n",
       "      <th>1</th>\n",
       "      <td>1</td>\n",
       "      <td>Speed limit (30km/h)</td>\n",
       "    </tr>\n",
       "    <tr>\n",
       "      <th>2</th>\n",
       "      <td>2</td>\n",
       "      <td>Speed limit (50km/h)</td>\n",
       "    </tr>\n",
       "    <tr>\n",
       "      <th>3</th>\n",
       "      <td>3</td>\n",
       "      <td>Speed limit (60km/h)</td>\n",
       "    </tr>\n",
       "    <tr>\n",
       "      <th>4</th>\n",
       "      <td>4</td>\n",
       "      <td>Speed limit (70km/h)</td>\n",
       "    </tr>\n",
       "  </tbody>\n",
       "</table>\n",
       "</div>"
      ],
      "text/plain": [
       "   ClassId                  Name\n",
       "0        0  Speed limit (20km/h)\n",
       "1        1  Speed limit (30km/h)\n",
       "2        2  Speed limit (50km/h)\n",
       "3        3  Speed limit (60km/h)\n",
       "4        4  Speed limit (70km/h)"
      ]
     },
     "execution_count": 83,
     "metadata": {},
     "output_type": "execute_result"
    }
   ],
   "source": [
    "sign_name.head()"
   ]
  },
  {
   "cell_type": "code",
   "execution_count": 84,
   "metadata": {},
   "outputs": [
    {
     "name": "stdout",
     "output_type": "stream",
     "text": [
      "Speed limit (70km/h)\n"
     ]
    }
   ],
   "source": [
    "answer = 4\n",
    "\n",
    "result = sign_name.iloc[answer][1]\n",
    "print(result)"
   ]
  }
 ],
 "metadata": {
  "kernelspec": {
   "display_name": "TORCH_NLP38",
   "language": "python",
   "name": "python3"
  },
  "language_info": {
   "codemirror_mode": {
    "name": "ipython",
    "version": 3
   },
   "file_extension": ".py",
   "mimetype": "text/x-python",
   "name": "python",
   "nbconvert_exporter": "python",
   "pygments_lexer": "ipython3",
   "version": "3.8.19"
  }
 },
 "nbformat": 4,
 "nbformat_minor": 2
}
